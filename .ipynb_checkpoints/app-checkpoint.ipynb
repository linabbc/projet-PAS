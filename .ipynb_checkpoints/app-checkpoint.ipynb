{
 "cells": [
  {
   "cell_type": "code",
   "execution_count": 5,
   "id": "1a62923d-d097-48d5-b223-e3509aa638eb",
   "metadata": {},
   "outputs": [],
   "source": [
    "from flask import Flask, render_template, request\n",
    "from Tools import Vectoriser_Question, Calcul_Distance, Get_Question_Reponse\n",
    "\n",
    "import pandas as pd\n",
    "import pickle5 as p\n",
    "\n",
    "app = Flask(__name__)\n",
    "\n",
    "@app.route('/', methods = [\"POST\", \"GET\"])\n",
    "def index():\n",
    "    if request.method == \"POST\":\n",
    "        merci = True\n",
    "        with open(\"NouvellesQuestions.txt\", 'a') as writer:\n",
    "            writer.write(request.form.get(\"email\")+\"|\"+request.form.get(\"question\")+\"\\n\")\n",
    "        return render_template(\"index.html\", merci = merci)\n",
    "    return render_template(\"index.html\")\n",
    "\n",
    "@app.route('/question', methods = ['POST'])\n",
    "def question():\n",
    "    if request.method == 'POST':\n",
    "        question = request.form.get(\"InputQuestion\")\n",
    "        with open(\"corpus.txt\", \"r\") as reader:\n",
    "            corpus = reader.read()\n",
    "        corpus = corpus.split(\"\\n\")[:-1]\n",
    "        with open(\"./Data/Dataset.pkl\", \"rb\") as fh:\n",
    "            data = p.load(fh)\n",
    "        question = Vectoriser_Question(question, corpus)\n",
    "        data = Calcul_Distance(data, question)\n",
    "        result = Get_Question_Reponse(data)\n",
    "        return render_template(\"question.html\", questions = result[\"Question_Origine\"].to_list(), responses = result[\"Reponse\"].to_list(), taille = [i for i in range (len(result[\"Question_Origine\"].to_list()))])\n",
    "\n",
    "@app.route('/formulaire', methods = ['POST'])\n",
    "def formulaire():\n",
    "    return render_template(\"formulaire.html\")"
   ]
  }
 ],
 "metadata": {
  "kernelspec": {
   "display_name": "Python 3",
   "language": "python",
   "name": "python3"
  },
  "language_info": {
   "codemirror_mode": {
    "name": "ipython",
    "version": 3
   },
   "file_extension": ".py",
   "mimetype": "text/x-python",
   "name": "python",
   "nbconvert_exporter": "python",
   "pygments_lexer": "ipython3",
   "version": "3.7.5"
  }
 },
 "nbformat": 4,
 "nbformat_minor": 5
}
